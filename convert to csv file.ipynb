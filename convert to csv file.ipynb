{
 "cells": [
  {
   "cell_type": "code",
   "execution_count": null,
   "metadata": {},
   "outputs": [],
   "source": [
    "import pandas as pd\n",
    "import json\n",
    "import os\n",
    "\n",
    "# Directory containing the JSON files\n",
    "directory = r'E:\\CLS\\CLS Task\\archive\\data'\n",
    "\n",
    "# List to hold the DataFrames\n",
    "dataframes = []\n",
    "\n",
    "# Counter to keep track of the number of files processed\n",
    "file_count = 0\n",
    "\n",
    "# Loop through all JSON files in the directory\n",
    "for filename in os.listdir(directory):\n",
    "    if filename.endswith('.json') and file_count < 120:\n",
    "        file_path = os.path.join(directory, filename)\n",
    "        \n",
    "        # Load JSON data\n",
    "        with open(file_path, 'r') as file:\n",
    "            data = json.load(file)\n",
    "        \n",
    "        # Extract relevant data from the JSON\n",
    "        playlists = data.get('playlists', [])\n",
    "        \n",
    "        # Convert to DataFrame\n",
    "        df = pd.json_normalize(playlists, record_path=['tracks'], meta=['name', 'collaborative', 'pid', 'modified_at', 'num_tracks', 'num_albums', 'num_followers'], errors='ignore')\n",
    "        dataframes.append(df)\n",
    "        \n",
    "        # Increment the file counter\n",
    "        file_count += 1\n",
    "\n",
    "# Check if we have processed the required number of files\n",
    "if file_count < 60:\n",
    "    print(f\"Only {file_count} JSON files were found and processed.\")\n",
    "\n",
    "# Concatenate all DataFrames into one\n",
    "final_df = pd.concat(dataframes, ignore_index=True)\n",
    "\n",
    "# Optionally, save the final DataFrame to a CSV file\n",
    "final_df.to_csv('merged_data.csv', index=False)\n",
    "\n",
    "# Print a message to indicate that the operation was successful\n",
    "print(\"Data has been successfully converted and saved to 'merged_data.csv'\")\n",
    "\n",
    "# The final DataFrame is now assigned to `final_df`, and you can access it for exploration and cleaning.\n"
   ]
  }
 ],
 "metadata": {
  "language_info": {
   "name": "python"
  }
 },
 "nbformat": 4,
 "nbformat_minor": 2
}
